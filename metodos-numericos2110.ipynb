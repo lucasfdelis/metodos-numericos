{
 "cells": [
  {
   "cell_type": "markdown",
   "id": "eca2680f",
   "metadata": {},
   "source": [
    "# Critérios de parada"
   ]
  },
  {
   "cell_type": "markdown",
   "id": "3bdae66c",
   "metadata": {},
   "source": [
    "### 1. Erro máximo permitido: tolerância"
   ]
  },
  {
   "cell_type": "markdown",
   "id": "678fd5e4",
   "metadata": {},
   "source": [
    "Tolerancia > erro ? Sim: paro - Não: +1 iteração"
   ]
  },
  {
   "cell_type": "markdown",
   "id": "2fb872b2",
   "metadata": {},
   "source": [
    "### Método da Bisseção"
   ]
  },
  {
   "cell_type": "code",
   "execution_count": 27,
   "id": "d4ddc9d1",
   "metadata": {},
   "outputs": [],
   "source": [
    "import numpy as np\n",
    "\n",
    "def bissecao(a,b,f,tol):\n",
    "    i = 0\n",
    "    if((np.sign(f(a)) * np.sign(f(b))) != -1):\n",
    "        return \"Não existe raiz\"\n",
    "    elif((np.sign(f(a)) * np.sign(f(b))) == -1):\n",
    "        while True:\n",
    "            m = (a + b)/2\n",
    "            if(np.abs(f(m)) < tol):\n",
    "                break\n",
    "            else:\n",
    "                if((np.sign(f(a)) * np.sign(f(m))) == -1):\n",
    "                    b = m\n",
    "                else:\n",
    "                    a = m\n",
    "    return m\n",
    "    i = i+1"
   ]
  },
  {
   "cell_type": "code",
   "execution_count": 29,
   "id": "5ad8744b",
   "metadata": {},
   "outputs": [
    {
     "data": {
      "text/plain": [
       "1.4140625"
      ]
     },
     "execution_count": 29,
     "metadata": {},
     "output_type": "execute_result"
    }
   ],
   "source": [
    "f = lambda x: x**2 - 2\n",
    "bissecao(0,2,f,0.01)"
   ]
  },
  {
   "cell_type": "markdown",
   "id": "629f8dc6",
   "metadata": {},
   "source": [
    "https://pythonnumericalmethods.berkeley.edu/notebooks/Index.html"
   ]
  }
 ],
 "metadata": {
  "kernelspec": {
   "display_name": "Python 3 (ipykernel)",
   "language": "python",
   "name": "python3"
  },
  "language_info": {
   "codemirror_mode": {
    "name": "ipython",
    "version": 3
   },
   "file_extension": ".py",
   "mimetype": "text/x-python",
   "name": "python",
   "nbconvert_exporter": "python",
   "pygments_lexer": "ipython3",
   "version": "3.9.7"
  }
 },
 "nbformat": 4,
 "nbformat_minor": 5
}
