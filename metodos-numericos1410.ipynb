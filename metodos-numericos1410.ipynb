{
 "cells": [
  {
   "cell_type": "markdown",
   "id": "fc5223ae",
   "metadata": {},
   "source": [
    "# Erros em operações numéricas"
   ]
  },
  {
   "cell_type": "markdown",
   "id": "0af42300",
   "metadata": {},
   "source": [
    "## Tipos:"
   ]
  },
  {
   "cell_type": "markdown",
   "id": "39193067",
   "metadata": {},
   "source": [
    "- incerteza (operações em sinais de voz)\n",
    "- arredondamento (erro não controlado)\n",
    "- truncamento (O valor trava em determinado momento, quanto maior o tamanho de valor travado, menor o erro.)"
   ]
  },
  {
   "cell_type": "markdown",
   "id": "4218bc75",
   "metadata": {},
   "source": [
    "## Cálculo de erros experimentais\n",
    "- x: valor esperado\n",
    "- $\\overline{x}$: Valor estimado/medido/observado\n",
    "- $E_a = |x- \\overline{x} |$: erro absoluto\n",
    "- $E_r = dfrac{E_a = |x- \\overline{x} |}{|x|}$: erro relativo"
   ]
  },
  {
   "cell_type": "markdown",
   "id": "6ddc9de9",
   "metadata": {},
   "source": [
    "## Cálculo de erros iterativos"
   ]
  },
  {
   "cell_type": "markdown",
   "id": "34fdac4e",
   "metadata": {},
   "source": [
    "- $V_i$: iteração anterior\n",
    "- $V_i+1$: iteração atual\n",
    "- TOL: erro tolerável\n",
    "- $E_a: |V_i-V_i+1|$: erro absoluto\n",
    "-$E_r = dfrac{E_a = |V_i-V_i+1|}{|V_i|}$: erro relativo"
   ]
  },
  {
   "cell_type": "markdown",
   "id": "939bca40",
   "metadata": {},
   "source": [
    "| i | V_i   | Vi+1  | Erro |\n",
    "|---|-------|-------|------|\n",
    "| 0 | 1     | 1,5   | 0.5  |\n",
    "| 1 | 1,5   | 2     | 0.3  |\n",
    "| 2 | 2     | 2,2   | 0.1  |\n",
    "| 3 | 2,2   | 2,19  | 0.005|\n",
    "| 4 | 2,19  | 2,187 |      |\n",
    "| 5 | 2,187 | 2,186 |      |"
   ]
  },
  {
   "cell_type": "markdown",
   "id": "60597742",
   "metadata": {},
   "source": [
    "### Considere o seguinte problema iterativo:\n",
    "\n",
    "- $x_1$ = 1/3\n",
    "- $x_n+1 = 4.x_n-1, n = 1.2,...$ \n",
    "\n",
    "Implemente a série iterativa, calculando o erro a cada iteração."
   ]
  },
  {
   "cell_type": "code",
   "execution_count": 10,
   "id": "374f94de",
   "metadata": {},
   "outputs": [
    {
     "name": "stdout",
     "output_type": "stream",
     "text": [
      "1\n",
      "0.33333333333333326\n",
      "5.551115123125783e-17\n",
      "0.6666666666666665\n",
      "2\n",
      "0.33333333333333304\n",
      "2.220446049250313e-16\n",
      "0.6666666666666661\n",
      "3\n",
      "0.33333333333333215\n",
      "8.881784197001252e-16\n",
      "0.6666666666666643\n",
      "4\n",
      "0.3333333333333286\n",
      "3.552713678800501e-15\n",
      "0.6666666666666572\n",
      "5\n",
      "0.3333333333333144\n",
      "1.4210854715202004e-14\n",
      "0.6666666666666288\n"
     ]
    }
   ],
   "source": [
    "import numpy as np\n",
    "\n",
    "def relative_error(x_n,x_n_1):\n",
    "    return np.abs(x_n - x_n_1 / np.abs(x_n))\n",
    "\n",
    "def absolute_error(x_n, x_n_1):\n",
    "    return np.abs(x_n - x_n_1)\n",
    "\n",
    "def serie(n):\n",
    "    x_i = 1/3\n",
    "    x_b = x_i\n",
    "    for i in range(1,n+1):\n",
    "        x_n = 4*x_b - 1\n",
    "        e_a = absolute_error(x_b,x_n)\n",
    "        e_r = relative_error(x_b,x_n)\n",
    "        \n",
    "        x_b = x_n\n",
    "        \n",
    "        print(i)\n",
    "        print(x_n)\n",
    "        print(e_a)\n",
    "        print(e_r)\n",
    "\n",
    "serie(5)"
   ]
  },
  {
   "cell_type": "markdown",
   "id": "22554ecc",
   "metadata": {},
   "source": [
    "## Aproximações por séries de taylor"
   ]
  },
  {
   "cell_type": "code",
   "execution_count": 30,
   "id": "2b732dc9",
   "metadata": {},
   "outputs": [],
   "source": [
    "import matplotlib.pyplot as plt"
   ]
  },
  {
   "cell_type": "markdown",
   "id": "4eb3bf2e",
   "metadata": {},
   "source": [
    "$$\n",
    "f(x) = \\sum_{n=0}^{inf}\\dfrac\n",
    "$$"
   ]
  },
  {
   "cell_type": "code",
   "execution_count": 37,
   "id": "ff95da0e",
   "metadata": {},
   "outputs": [
    {
     "data": {
      "text/plain": [
       "array([ 5.16771278e+00,  5.01346303e+00,  4.86231368e+00,  4.71423324e+00,\n",
       "        4.56919024e+00,  4.42715320e+00,  4.28809065e+00,  4.15197112e+00,\n",
       "        4.01876312e+00,  3.88843517e+00,  3.76095582e+00,  3.63629357e+00,\n",
       "        3.51441695e+00,  3.39529448e+00,  3.27889470e+00,  3.16518612e+00,\n",
       "        3.05413726e+00,  2.94571666e+00,  2.83989283e+00,  2.73663430e+00,\n",
       "        2.63590960e+00,  2.53768724e+00,  2.44193575e+00,  2.34862366e+00,\n",
       "        2.25771948e+00,  2.16919175e+00,  2.08300898e+00,  1.99913971e+00,\n",
       "        1.91755245e+00,  1.83821572e+00,  1.76109806e+00,  1.68616799e+00,\n",
       "        1.61339402e+00,  1.54274469e+00,  1.47418852e+00,  1.40769403e+00,\n",
       "        1.34322975e+00,  1.28076419e+00,  1.22026589e+00,  1.16170337e+00,\n",
       "        1.10504515e+00,  1.05025975e+00,  9.97315708e-01,  9.46181536e-01,\n",
       "        8.96825761e-01,  8.49216908e-01,  8.03323500e-01,  7.59114061e-01,\n",
       "        7.16557115e-01,  6.75621186e-01,  6.36274799e-01,  5.98486476e-01,\n",
       "        5.62224743e-01,  5.27458122e-01,  4.94155138e-01,  4.62284315e-01,\n",
       "        4.31814177e-01,  4.02713247e-01,  3.74950050e-01,  3.48493109e-01,\n",
       "        3.23310949e-01,  2.99372093e-01,  2.76645066e-01,  2.55098391e-01,\n",
       "        2.34700592e-01,  2.15420193e-01,  1.97225718e-01,  1.80085692e-01,\n",
       "        1.63968637e-01,  1.48843078e-01,  1.34677539e-01,  1.21440544e-01,\n",
       "        1.09100617e-01,  9.76262814e-02,  8.69860613e-02,  7.71484808e-02,\n",
       "        6.80820638e-02,  5.97553342e-02,  5.21368160e-02,  4.51950331e-02,\n",
       "        3.88985094e-02,  3.32157689e-02,  2.81153356e-02,  2.35657333e-02,\n",
       "        1.95354860e-02,  1.59931177e-02,  1.29071522e-02,  1.02461135e-02,\n",
       "        7.97852567e-03,  6.07291248e-03,  4.49779794e-03,  3.22170598e-03,\n",
       "        2.21316053e-03,  1.44068553e-03,  8.72804937e-04,  4.78042674e-04,\n",
       "        2.24922685e-04,  8.19689084e-05,  1.77052842e-05,  6.55751267e-07,\n",
       "       -6.55751267e-07, -1.77052842e-05, -8.19689084e-05, -2.24922685e-04,\n",
       "       -4.78042674e-04, -8.72804937e-04, -1.44068553e-03, -2.21316053e-03,\n",
       "       -3.22170598e-03, -4.49779794e-03, -6.07291248e-03, -7.97852567e-03,\n",
       "       -1.02461135e-02, -1.29071522e-02, -1.59931177e-02, -1.95354860e-02,\n",
       "       -2.35657333e-02, -2.81153356e-02, -3.32157689e-02, -3.88985094e-02,\n",
       "       -4.51950331e-02, -5.21368160e-02, -5.97553342e-02, -6.80820638e-02,\n",
       "       -7.71484808e-02, -8.69860613e-02, -9.76262814e-02, -1.09100617e-01,\n",
       "       -1.21440544e-01, -1.34677539e-01, -1.48843078e-01, -1.63968637e-01,\n",
       "       -1.80085692e-01, -1.97225718e-01, -2.15420193e-01, -2.34700592e-01,\n",
       "       -2.55098391e-01, -2.76645066e-01, -2.99372093e-01, -3.23310949e-01,\n",
       "       -3.48493109e-01, -3.74950050e-01, -4.02713247e-01, -4.31814177e-01,\n",
       "       -4.62284315e-01, -4.94155138e-01, -5.27458122e-01, -5.62224743e-01,\n",
       "       -5.98486476e-01, -6.36274799e-01, -6.75621186e-01, -7.16557115e-01,\n",
       "       -7.59114061e-01, -8.03323500e-01, -8.49216908e-01, -8.96825761e-01,\n",
       "       -9.46181536e-01, -9.97315708e-01, -1.05025975e+00, -1.10504515e+00,\n",
       "       -1.16170337e+00, -1.22026589e+00, -1.28076419e+00, -1.34322975e+00,\n",
       "       -1.40769403e+00, -1.47418852e+00, -1.54274469e+00, -1.61339402e+00,\n",
       "       -1.68616799e+00, -1.76109806e+00, -1.83821572e+00, -1.91755245e+00,\n",
       "       -1.99913971e+00, -2.08300898e+00, -2.16919175e+00, -2.25771948e+00,\n",
       "       -2.34862366e+00, -2.44193575e+00, -2.53768724e+00, -2.63590960e+00,\n",
       "       -2.73663430e+00, -2.83989283e+00, -2.94571666e+00, -3.05413726e+00,\n",
       "       -3.16518612e+00, -3.27889470e+00, -3.39529448e+00, -3.51441695e+00,\n",
       "       -3.63629357e+00, -3.76095582e+00, -3.88843517e+00, -4.01876312e+00,\n",
       "       -4.15197112e+00, -4.28809065e+00, -4.42715320e+00, -4.56919024e+00,\n",
       "       -4.71423324e+00, -4.86231368e+00, -5.01346303e+00, -5.16771278e+00])"
      ]
     },
     "execution_count": 37,
     "metadata": {},
     "output_type": "execute_result"
    }
   ],
   "source": [
    "x = np.linspace(-np.pi,np.pi,200)\n",
    "def f(x,n):\n",
    "    return ((-1)**n * (x)**(2*n+1)) / np.math.factorial(2*n+1)\n",
    "\n",
    "f(x,1)"
   ]
  },
  {
   "cell_type": "code",
   "execution_count": 38,
   "id": "6d1e6edd",
   "metadata": {},
   "outputs": [
    {
     "data": {
      "text/plain": [
       "<matplotlib.legend.Legend at 0x1831d585fa0>"
      ]
     },
     "execution_count": 38,
     "metadata": {},
     "output_type": "execute_result"
    },
    {
     "data": {
      "image/png": "[encoded data removed]",
      "text/plain": [
       "<Figure size 720x576 with 1 Axes>"
      ]
     },
     "metadata": {
      "needs_background": "light"
     },
     "output_type": "display_data"
    }
   ],
   "source": [
    "y = np.zeros(len(x))\n",
    "plt.figure(figsize=(10,8))\n",
    "\n",
    "for n,label in zip(range(4),['1a','3a','5a','7a']):\n",
    "    y += f(x,n)\n",
    "    plt.plot(x,y,label=label)\n",
    "\n",
    "plt.grid()\n",
    "plt.xlabel('$x$')\n",
    "plt.ylabel('$f(x)$')\n",
    "plt.legend()"
   ]
  }
 ],
 "metadata": {
  "kernelspec": {
   "display_name": "Python 3 (ipykernel)",
   "language": "python",
   "name": "python3"
  },
  "language_info": {
   "codemirror_mode": {
    "name": "ipython",
    "version": 3
   },
   "file_extension": ".py",
   "mimetype": "text/x-python",
   "name": "python",
   "nbconvert_exporter": "python",
   "pygments_lexer": "ipython3",
   "version": "3.9.7"
  }
 },
 "nbformat": 4,
 "nbformat_minor": 5
}
