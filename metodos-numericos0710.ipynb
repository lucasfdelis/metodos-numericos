{
 "cells": [
  {
   "cell_type": "markdown",
   "id": "c928af30",
   "metadata": {},
   "source": [
    "# Aritmética de ponto flutuante e tratamento de erros"
   ]
  },
  {
   "cell_type": "code",
   "execution_count": 1,
   "id": "5e3b4a55",
   "metadata": {},
   "outputs": [],
   "source": [
    "import numpy as np"
   ]
  },
  {
   "cell_type": "markdown",
   "id": "acebcc65",
   "metadata": {},
   "source": [
    "## 2. Representação em ponto flutuante"
   ]
  },
  {
   "cell_type": "code",
   "execution_count": 2,
   "id": "cd9ea4c2",
   "metadata": {},
   "outputs": [
    {
     "data": {
      "text/plain": [
       "(0.5960464477539062, 24)"
      ]
     },
     "execution_count": 2,
     "metadata": {},
     "output_type": "execute_result"
    }
   ],
   "source": [
    "np.frexp(10000000)"
   ]
  },
  {
   "cell_type": "markdown",
   "id": "09db86e2",
   "metadata": {},
   "source": [
    "(Mantissa / Expoente)"
   ]
  },
  {
   "cell_type": "code",
   "execution_count": 36,
   "id": "dff41f29",
   "metadata": {},
   "outputs": [
    {
     "data": {
      "text/plain": [
       "inf"
      ]
     },
     "execution_count": 36,
     "metadata": {},
     "output_type": "execute_result"
    }
   ],
   "source": [
    "a = 10e308\n",
    "a"
   ]
  },
  {
   "cell_type": "code",
   "execution_count": 37,
   "id": "3aa7c32a",
   "metadata": {},
   "outputs": [
    {
     "data": {
      "text/plain": [
       "False"
      ]
     },
     "execution_count": 37,
     "metadata": {},
     "output_type": "execute_result"
    }
   ],
   "source": [
    "a == a+(a-a) #true (?)"
   ]
  },
  {
   "cell_type": "code",
   "execution_count": 38,
   "id": "19930143",
   "metadata": {},
   "outputs": [
    {
     "data": {
      "text/plain": [
       "False"
      ]
     },
     "execution_count": 38,
     "metadata": {},
     "output_type": "execute_result"
    }
   ],
   "source": [
    "a == (a+a)-a #true (mas devia ser false)"
   ]
  },
  {
   "cell_type": "code",
   "execution_count": 39,
   "id": "32bc3e43",
   "metadata": {},
   "outputs": [
    {
     "data": {
      "text/plain": [
       "inf"
      ]
     },
     "execution_count": 39,
     "metadata": {},
     "output_type": "execute_result"
    }
   ],
   "source": [
    "a+a"
   ]
  },
  {
   "cell_type": "markdown",
   "id": "939c1e7b",
   "metadata": {},
   "source": [
    "## Epsilon da máquina: diferença entre 1.0 e o valor imediatamente maior."
   ]
  },
  {
   "cell_type": "code",
   "execution_count": 42,
   "id": "cbb460fd",
   "metadata": {},
   "outputs": [
    {
     "data": {
      "text/plain": [
       "finfo(resolution=0.001, min=-6.55040e+04, max=6.55040e+04, dtype=float16)"
      ]
     },
     "execution_count": 42,
     "metadata": {},
     "output_type": "execute_result"
    }
   ],
   "source": [
    "np.finfo(dtype=np.float16)"
   ]
  },
  {
   "cell_type": "markdown",
   "id": "99d5fe37",
   "metadata": {},
   "source": [
    "#### O epsilon varia com o tipo de representação numérica?"
   ]
  },
  {
   "cell_type": "code",
   "execution_count": 43,
   "id": "9bc62c53",
   "metadata": {},
   "outputs": [],
   "source": [
    "def info_maq(tipo):\n",
    "    x = np.finfo(dtype = tipo)\n",
    "    print(\"Número de bits usados: \",x.bits)\n",
    "    print(\"Epsilon \",x.eps)\n",
    "    print(\"Valor máximo: \",x.max)\n",
    "    print(\"Valor mínimo: \",x.min)"
   ]
  },
  {
   "cell_type": "code",
   "execution_count": 44,
   "id": "cae84970",
   "metadata": {},
   "outputs": [
    {
     "name": "stdout",
     "output_type": "stream",
     "text": [
      "Número de bits usados:  16\n",
      "Epsilon  0.000977\n",
      "Valor máximo:  65500.0\n",
      "Valor mínimo:  -65500.0\n"
     ]
    }
   ],
   "source": [
    "info_maq(np.float16)"
   ]
  },
  {
   "cell_type": "code",
   "execution_count": 45,
   "id": "524e0ed8",
   "metadata": {},
   "outputs": [
    {
     "name": "stdout",
     "output_type": "stream",
     "text": [
      "Número de bits usados:  32\n",
      "Epsilon  1.1920929e-07\n",
      "Valor máximo:  3.4028235e+38\n",
      "Valor mínimo:  -3.4028235e+38\n"
     ]
    }
   ],
   "source": [
    "info_maq(np.float32)"
   ]
  },
  {
   "cell_type": "code",
   "execution_count": 46,
   "id": "2a03e415",
   "metadata": {},
   "outputs": [
    {
     "name": "stdout",
     "output_type": "stream",
     "text": [
      "Número de bits usados:  64\n",
      "Epsilon  2.220446049250313e-16\n",
      "Valor máximo:  1.7976931348623157e+308\n",
      "Valor mínimo:  -1.7976931348623157e+308\n"
     ]
    }
   ],
   "source": [
    "info_maq(np.float64)"
   ]
  },
  {
   "cell_type": "code",
   "execution_count": 50,
   "id": "af46b1f5",
   "metadata": {},
   "outputs": [
    {
     "name": "stdout",
     "output_type": "stream",
     "text": [
      "Número de bits usados:  64\n",
      "Epsilon  2.220446049250313e-16\n",
      "Valor máximo:  1.7976931348623157e+308\n",
      "Valor mínimo:  -1.7976931348623157e+308\n"
     ]
    }
   ],
   "source": [
    "info_maq(np.longdouble)"
   ]
  },
  {
   "cell_type": "code",
   "execution_count": null,
   "id": "c8dde586",
   "metadata": {},
   "outputs": [],
   "source": []
  }
 ],
 "metadata": {
  "kernelspec": {
   "display_name": "Python 3 (ipykernel)",
   "language": "python",
   "name": "python3"
  },
  "language_info": {
   "codemirror_mode": {
    "name": "ipython",
    "version": 3
   },
   "file_extension": ".py",
   "mimetype": "text/x-python",
   "name": "python",
   "nbconvert_exporter": "python",
   "pygments_lexer": "ipython3",
   "version": "3.9.7"
  }
 },
 "nbformat": 4,
 "nbformat_minor": 5
}
